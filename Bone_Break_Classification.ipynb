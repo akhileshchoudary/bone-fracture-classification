{
  "nbformat": 4,
  "nbformat_minor": 0,
  "metadata": {
    "colab": {
      "provenance": [],
      "authorship_tag": "ABX9TyNlqOgZdH+mg+jcF5/Z6vAi",
      "include_colab_link": true
    },
    "kernelspec": {
      "name": "python3",
      "display_name": "Python 3"
    },
    "language_info": {
      "name": "python"
    }
  },
  "cells": [
    {
      "cell_type": "markdown",
      "metadata": {
        "id": "view-in-github",
        "colab_type": "text"
      },
      "source": [
        "<a href=\"https://colab.research.google.com/github/akhileshchoudary/bone-fracture-classification/blob/main/Bone_Break_Classification.ipynb\" target=\"_parent\"><img src=\"https://colab.research.google.com/assets/colab-badge.svg\" alt=\"Open In Colab\"/></a>"
      ]
    },
    {
      "cell_type": "code",
      "source": [
        "# I mount my Google Drive to access the dataset stored in the cloud.\n",
        "from google.colab import drive\n",
        "drive.mount('/content/drive')"
      ],
      "metadata": {
        "colab": {
          "base_uri": "https://localhost:8080/"
        },
        "id": "l-gP14_dbsFL",
        "outputId": "1e042e24-3ec4-42ba-e371-cfae1f54654c"
      },
      "execution_count": 48,
      "outputs": [
        {
          "output_type": "stream",
          "name": "stdout",
          "text": [
            "Drive already mounted at /content/drive; to attempt to forcibly remount, call drive.mount(\"/content/drive\", force_remount=True).\n"
          ]
        }
      ]
    },
    {
      "cell_type": "code",
      "source": [
        "# I define the path to the dataset directory for easy reference throughout the code.\n",
        "!ls \"/content/drive/My Drive/Bone Break Classification\""
      ],
      "metadata": {
        "colab": {
          "base_uri": "https://localhost:8080/"
        },
        "id": "_faRXjwDgfu7",
        "outputId": "0f7aecbe-b72d-4437-8627-898d679b8458"
      },
      "execution_count": 49,
      "outputs": [
        {
          "output_type": "stream",
          "name": "stdout",
          "text": [
            "'Avulsion fracture'\t'Hairline Fracture'\t 'Pathological fracture'\n",
            "'Comminuted fracture'\t'Impacted fracture'\t 'Spiral Fracture'\n",
            "'Fracture Dislocation'\t'Longitudinal fracture'\n",
            "'Greenstick fracture'\t'Oblique fracture'\n"
          ]
        }
      ]
    },
    {
      "cell_type": "code",
      "source": [
        "data_dir = \"/content/drive/My Drive/Bone Break Classification\""
      ],
      "metadata": {
        "id": "dODpmbXLgsk9"
      },
      "execution_count": 10,
      "outputs": []
    },
    {
      "cell_type": "markdown",
      "source": [
        "#### Importing Libraries\n",
        "\n",
        "- I import the necessary libraries for data processing, visualization, and building the machine learning model.\n",
        "- 'os' and 'numpy' are for file handling and numerical operations.\n",
        "- 'matplotlib.pyplot' is for plotting images.\n",
        "- 'tensorflow' and 'keras' provide tools for building and training the neural network.\n",
        "- 'pathlib' is used for handling file paths."
      ],
      "metadata": {
        "id": "yfK_sO38wWCR"
      }
    },
    {
      "cell_type": "code",
      "source": [
        "import os\n",
        "import numpy as np\n",
        "import matplotlib.pyplot as plt\n",
        "\n",
        "import tensorflow as tf\n",
        "\n",
        "from tensorflow import keras\n",
        "from keras import (\n",
        "    backend as K,\n",
        "    losses,\n",
        "    optimizers,\n",
        "    layers,\n",
        "    models,\n",
        "    utils,\n",
        "    callbacks\n",
        ")\n",
        "\n",
        "from pathlib import Path"
      ],
      "metadata": {
        "id": "Bfokt5N0hhmA"
      },
      "execution_count": 50,
      "outputs": []
    },
    {
      "cell_type": "markdown",
      "source": [
        "#### Load Training and Validation Data\n",
        "- I create training and validation datasets from the image directory using TensorFlow's image_dataset_from_directory.\n",
        "- The dataset is split with 90% for training and 10% for validation.\n",
        "- Images are resized to 256x256 pixels, and the batch size is set to 64.\n",
        "- Labels are inferred from folder names, and the seed ensures reproducibility."
      ],
      "metadata": {
        "id": "XVnrQxR2xAkS"
      }
    },
    {
      "cell_type": "code",
      "source": [
        "train_data = utils.image_dataset_from_directory(\n",
        "    data_dir,\n",
        "    labels=\"inferred\",\n",
        "    label_mode=\"int\",\n",
        "    validation_split=0.1,\n",
        "    subset=\"training\",\n",
        "    shuffle=True,\n",
        "    color_mode=\"rgb\",\n",
        "    image_size=(256,256),\n",
        "    batch_size=64,\n",
        "    seed=40\n",
        ")\n",
        "\n",
        "#load the test data\n",
        "validation_data = utils.image_dataset_from_directory(\n",
        "    data_dir,\n",
        "    labels=\"inferred\",\n",
        "    label_mode=\"int\",\n",
        "    validation_split=0.1,\n",
        "    subset=\"validation\",\n",
        "    color_mode=\"rgb\",\n",
        "    image_size=(256,256),\n",
        "    batch_size=64,\n",
        "    seed=42\n",
        ")"
      ],
      "metadata": {
        "colab": {
          "base_uri": "https://localhost:8080/"
        },
        "id": "uFpmRjcRxOKc",
        "outputId": "18f3d7e8-773a-4234-8688-e2734e26eba2"
      },
      "execution_count": 51,
      "outputs": [
        {
          "output_type": "stream",
          "name": "stdout",
          "text": [
            "Found 1101 files belonging to 10 classes.\n",
            "Using 991 files for training.\n",
            "Found 1101 files belonging to 10 classes.\n",
            "Using 110 files for validation.\n"
          ]
        }
      ]
    },
    {
      "cell_type": "markdown",
      "source": [
        "- The output indicates that 1101 files are found across 10 classes.\n",
        "- Training dataset: 991 files are used.\n",
        "- Validation dataset: 110 files are used.\n",
        "- This confirms that the data is successfully loaded and split."
      ],
      "metadata": {
        "id": "bwTD8FqWxvhn"
      }
    },
    {
      "cell_type": "code",
      "source": [
        "# Inspect the class names from the dataset\n",
        "class_names = train_data.class_names\n",
        "print(\"Class names:\", class_names)"
      ],
      "metadata": {
        "colab": {
          "base_uri": "https://localhost:8080/"
        },
        "id": "xXCG0fNUx2Jz",
        "outputId": "ad42a0f3-7a2e-4ebe-e847-b5fbacde8747"
      },
      "execution_count": 52,
      "outputs": [
        {
          "output_type": "stream",
          "name": "stdout",
          "text": [
            "Class names: ['Avulsion fracture', 'Comminuted fracture', 'Fracture Dislocation', 'Greenstick fracture', 'Hairline Fracture', 'Impacted fracture', 'Longitudinal fracture', 'Oblique fracture', 'Pathological fracture', 'Spiral Fracture']\n"
          ]
        }
      ]
    },
    {
      "cell_type": "code",
      "source": [
        "# I define a preprocessing function to normalize image pixel values to the range [0, 1].\n",
        "# This is done by casting images to float32 and dividing by 255.\n",
        "\n",
        "def preprocess(img):\n",
        "    img = tf.cast(img, \"float32\") / 255.0\n",
        "    return img\n",
        "\n",
        "# Applying the preprocessing function to both training and validation datasets.\n",
        "\n",
        "train_dataset = train_data.map(lambda x, y: (preprocess(x), y))\n",
        "val_dataset = validation_data.map(lambda x, y: (preprocess(x), y))"
      ],
      "metadata": {
        "id": "oxNJTQJxyB8R"
      },
      "execution_count": 55,
      "outputs": []
    },
    {
      "cell_type": "code",
      "source": [
        "# I extract images and labels from the training dataset into NumPy arrays.\n",
        "# This is useful for further processing or visualization.\n",
        "\n",
        "x_train = []\n",
        "y_train = []\n",
        "\n",
        "# Iterating through the training dataset to collect images and labels.\n",
        "for images, labels in train_dataset:\n",
        "    #append train data to x_train\n",
        "    x_train.append(images.numpy())\n",
        "\n",
        "    #append labels to y_train\n",
        "    y_train.append(labels.numpy())\n",
        "\n",
        "# concatenate all the batches to get the full list\n",
        "x_train = np.concatenate(x_train, axis=0)\n",
        "y_train = np.concatenate(y_train, axis=0)"
      ],
      "metadata": {
        "id": "ptIFIGDWyNVe"
      },
      "execution_count": 56,
      "outputs": []
    },
    {
      "cell_type": "code",
      "source": [
        "# get val data and labels\n",
        "\n",
        "x_val = []\n",
        "y_val = []\n",
        "\n",
        "for images, labels in val_dataset:\n",
        "    #append train data to x_train\n",
        "    x_val.append(images.numpy())\n",
        "\n",
        "    #append labels to y_train\n",
        "    y_val.append(labels.numpy())\n",
        "\n",
        "# concatenate all the batches to get the full list\n",
        "x_val = np.concatenate(x_val, axis=0)\n",
        "y_val = np.concatenate(y_val, axis=0)"
      ],
      "metadata": {
        "id": "7HSQsWL9yw3x"
      },
      "execution_count": 57,
      "outputs": []
    }
  ]
}