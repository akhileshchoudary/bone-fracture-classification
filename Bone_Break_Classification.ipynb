{
  "nbformat": 4,
  "nbformat_minor": 0,
  "metadata": {
    "colab": {
      "provenance": [],
      "authorship_tag": "ABX9TyPsTmN4jPp3eCGS47e3ETvz",
      "include_colab_link": true
    },
    "kernelspec": {
      "name": "python3",
      "display_name": "Python 3"
    },
    "language_info": {
      "name": "python"
    }
  },
  "cells": [
    {
      "cell_type": "markdown",
      "metadata": {
        "id": "view-in-github",
        "colab_type": "text"
      },
      "source": [
        "<a href=\"https://colab.research.google.com/github/akhileshchoudary/bone-fracture-classification/blob/main/Bone_Break_Classification.ipynb\" target=\"_parent\"><img src=\"https://colab.research.google.com/assets/colab-badge.svg\" alt=\"Open In Colab\"/></a>"
      ]
    },
    {
      "cell_type": "code",
      "source": [
        "# I mount my Google Drive to access the dataset stored in the cloud.\n",
        "from google.colab import drive\n",
        "drive.mount('/content/drive')"
      ],
      "metadata": {
        "colab": {
          "base_uri": "https://localhost:8080/"
        },
        "id": "l-gP14_dbsFL",
        "outputId": "1e042e24-3ec4-42ba-e371-cfae1f54654c"
      },
      "execution_count": 48,
      "outputs": [
        {
          "output_type": "stream",
          "name": "stdout",
          "text": [
            "Drive already mounted at /content/drive; to attempt to forcibly remount, call drive.mount(\"/content/drive\", force_remount=True).\n"
          ]
        }
      ]
    },
    {
      "cell_type": "code",
      "source": [
        "# I define the path to the dataset directory for easy reference throughout the code.\n",
        "!ls \"/content/drive/My Drive/Bone Break Classification\""
      ],
      "metadata": {
        "colab": {
          "base_uri": "https://localhost:8080/"
        },
        "id": "_faRXjwDgfu7",
        "outputId": "0f7aecbe-b72d-4437-8627-898d679b8458"
      },
      "execution_count": 49,
      "outputs": [
        {
          "output_type": "stream",
          "name": "stdout",
          "text": [
            "'Avulsion fracture'\t'Hairline Fracture'\t 'Pathological fracture'\n",
            "'Comminuted fracture'\t'Impacted fracture'\t 'Spiral Fracture'\n",
            "'Fracture Dislocation'\t'Longitudinal fracture'\n",
            "'Greenstick fracture'\t'Oblique fracture'\n"
          ]
        }
      ]
    },
    {
      "cell_type": "code",
      "source": [
        "data_dir = \"/content/drive/My Drive/Bone Break Classification\""
      ],
      "metadata": {
        "id": "dODpmbXLgsk9"
      },
      "execution_count": 10,
      "outputs": []
    },
    {
      "cell_type": "markdown",
      "source": [
        "#### Importing Libraries\n",
        "\n",
        "- I import the necessary libraries for data processing, visualization, and building the machine learning model.\n",
        "- 'os' and 'numpy' are for file handling and numerical operations.\n",
        "- 'matplotlib.pyplot' is for plotting images.\n",
        "- 'tensorflow' and 'keras' provide tools for building and training the neural network.\n",
        "- 'pathlib' is used for handling file paths."
      ],
      "metadata": {
        "id": "yfK_sO38wWCR"
      }
    },
    {
      "cell_type": "code",
      "source": [
        "import os\n",
        "import numpy as np\n",
        "import matplotlib.pyplot as plt\n",
        "\n",
        "import tensorflow as tf\n",
        "\n",
        "from tensorflow import keras\n",
        "from keras import (\n",
        "    backend as K,\n",
        "    losses,\n",
        "    optimizers,\n",
        "    layers,\n",
        "    models,\n",
        "    utils,\n",
        "    callbacks\n",
        ")\n",
        "\n",
        "from pathlib import Path"
      ],
      "metadata": {
        "id": "Bfokt5N0hhmA"
      },
      "execution_count": 50,
      "outputs": []
    }
  ]
}